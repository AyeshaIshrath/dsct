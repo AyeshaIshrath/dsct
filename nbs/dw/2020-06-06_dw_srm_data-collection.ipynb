{
 "cells": [
  {
   "cell_type": "markdown",
   "metadata": {},
   "source": [
    "# Data Collection\n",
    "<br>\n",
    "Given the COVID-19 crisis, we will try to understand the health care capacity for India.\n",
    "<br><br>\n",
    "<i>The fight against COVID-19 is all about flattening the curve.</i>\n",
    "<br>\n",
    "<img src='https://thespinoff.co.nz/wp-content/uploads/2020/03/Covid-19-curves-graphic-social-v3.gif' alt='Flatten the curve' width=600 align='left'>"
   ]
  },
  {
   "cell_type": "markdown",
   "metadata": {},
   "source": [
    "* **What data do we need to better understand the healthcare capacity of India?**\n",
    "    - Discuss"
   ]
  },
  {
   "cell_type": "markdown",
   "metadata": {},
   "source": [
    "Now that we understand what data we need to estimate the health care capacity for India. The logical next step is to find relevant data sources.\n",
    "Unfortunately, this is not a straight forward process. There are multiple ways in which we can start searching for data sources, here are a few ways to start with:\n",
    "1. Quick google search\n",
    "2. Public [APIs](https://api.covid19india.org/)\n",
    "3. Official websites, in this case [MoHFW](https://www.mohfw.gov.in/) and [ICMR](https://www.icmr.gov.in/)\n",
    "4. Data groups working on similar space [datameet](http://datameet.org/)\n",
    "5. Public feeds like twitter or facebook\n",
    "6. [data.world](https://data.world/)"
   ]
  },
  {
   "cell_type": "markdown",
   "metadata": {},
   "source": [
    "* **Before we start, how much time do you think a Data Scientist spends in munging the data?**"
   ]
  },
  {
   "cell_type": "markdown",
   "metadata": {},
   "source": [
    "## Pull Data from an API\n",
    "\n",
    "Let us now pull the hospital beds data for **India**.     \n",
    "[COVID 19 API List for India](https://api.rootnet.in/)"
   ]
  },
  {
   "cell_type": "code",
   "execution_count": null,
   "metadata": {
    "ExecuteTime": {
     "end_time": "2020-06-10T05:27:49.927910Z",
     "start_time": "2020-06-10T05:27:49.613280Z"
    }
   },
   "outputs": [],
   "source": [
    "# Import libraries\n",
    "import requests\n",
    "import numpy as np\n",
    "import pandas as pd\n",
    "from pathlib import Path\n",
    "\n",
    "# Set data path\n",
    "DATA = Path('data')\n",
    "!ls {DATA}"
   ]
  },
  {
   "cell_type": "markdown",
   "metadata": {},
   "source": [
    "### Get data from the API"
   ]
  },
  {
   "cell_type": "code",
   "execution_count": null,
   "metadata": {
    "ExecuteTime": {
     "end_time": "2020-06-10T05:27:52.851283Z",
     "start_time": "2020-06-10T05:27:52.252355Z"
    }
   },
   "outputs": [],
   "source": [
    "BED_URL = 'https://api.rootnet.in/covid19-in/hospitals/beds'\n",
    "\n",
    "r = requests.get(BED_URL)\n",
    "print(f'Status {r.status_code}')\n"
   ]
  },
  {
   "cell_type": "markdown",
   "metadata": {},
   "source": [
    "### Load it into a `pandas DataFrame`"
   ]
  },
  {
   "cell_type": "code",
   "execution_count": null,
   "metadata": {
    "ExecuteTime": {
     "end_time": "2020-06-10T05:27:55.471593Z",
     "start_time": "2020-06-10T05:27:55.435498Z"
    }
   },
   "outputs": [],
   "source": [
    "api = r.json()\n",
    "\n",
    "beds = pd.DataFrame(api['data']['regional'])\n",
    "beds.head()"
   ]
  },
  {
   "cell_type": "markdown",
   "metadata": {},
   "source": [
    "### State wise bed count"
   ]
  },
  {
   "cell_type": "code",
   "execution_count": null,
   "metadata": {
    "ExecuteTime": {
     "end_time": "2020-06-10T05:27:58.802273Z",
     "start_time": "2020-06-10T05:27:58.575541Z"
    }
   },
   "outputs": [],
   "source": [
    "(beds[:-1][['state', 'totalBeds']]\n",
    "     .style\n",
    "     .hide_index()\n",
    "     .background_gradient(subset='totalBeds', cmap='YlGn'))"
   ]
  },
  {
   "cell_type": "markdown",
   "metadata": {},
   "source": [
    "### Exercise 1\n",
    "\n",
    "1. Find top 5 states with maximum number of hospital beds?\n",
    "2. Find top 10 states with least number of rural beds?  \n",
    "***\n",
    "* Hint: Remember there is a total row in the dataframe"
   ]
  },
  {
   "cell_type": "code",
   "execution_count": null,
   "metadata": {
    "ExecuteTime": {
     "end_time": "2020-06-10T05:28:03.792218Z",
     "start_time": "2020-06-10T05:28:03.787240Z"
    }
   },
   "outputs": [],
   "source": [
    "# 1"
   ]
  },
  {
   "cell_type": "code",
   "execution_count": null,
   "metadata": {
    "ExecuteTime": {
     "end_time": "2020-06-10T05:28:04.518493Z",
     "start_time": "2020-06-10T05:28:04.516546Z"
    }
   },
   "outputs": [],
   "source": [
    "# 2"
   ]
  },
  {
   "cell_type": "markdown",
   "metadata": {},
   "source": [
    "### Exercise 2\n",
    "\n",
    "1. Get data for hospital stats at a more granular level. Use the [Medical College API](https://api.rootnet.in/covid19-in/hospitals/medical-colleges)\n",
    "2. Check the status code\n",
    "3. Load the `medicalColleges` data into pandas DataFrame. (Hint: Check the structure of the response before loading it into the DataFrame)\n",
    "4. Find top 5 states with minimum & maximum number of `hospitalBeds`\n",
    "5. Did you notice any difference in number of hospital beds? Can you reason why?\n"
   ]
  },
  {
   "cell_type": "code",
   "execution_count": null,
   "metadata": {
    "ExecuteTime": {
     "end_time": "2020-06-10T05:28:11.697572Z",
     "start_time": "2020-06-10T05:28:11.695285Z"
    }
   },
   "outputs": [],
   "source": [
    "# 1\n",
    "COLLEGE_URL = 'https://api.rootnet.in/covid19-in/hospitals/medical-colleges'\n",
    "\n",
    "# YOUR CODE GOES HERE"
   ]
  },
  {
   "cell_type": "code",
   "execution_count": null,
   "metadata": {
    "ExecuteTime": {
     "end_time": "2020-06-10T05:28:12.212453Z",
     "start_time": "2020-06-10T05:28:12.208676Z"
    }
   },
   "outputs": [],
   "source": [
    "# 2"
   ]
  },
  {
   "cell_type": "code",
   "execution_count": null,
   "metadata": {
    "ExecuteTime": {
     "end_time": "2020-06-10T05:28:12.669432Z",
     "start_time": "2020-06-10T05:28:12.666521Z"
    }
   },
   "outputs": [],
   "source": [
    "# 3"
   ]
  },
  {
   "cell_type": "code",
   "execution_count": null,
   "metadata": {
    "ExecuteTime": {
     "end_time": "2020-06-10T05:28:13.189334Z",
     "start_time": "2020-06-10T05:28:13.184679Z"
    }
   },
   "outputs": [],
   "source": [
    "# 4"
   ]
  },
  {
   "cell_type": "code",
   "execution_count": null,
   "metadata": {
    "ExecuteTime": {
     "end_time": "2020-06-10T05:28:13.677513Z",
     "start_time": "2020-06-10T05:28:13.673904Z"
    }
   },
   "outputs": [],
   "source": [
    "# 5"
   ]
  },
  {
   "cell_type": "markdown",
   "metadata": {},
   "source": [
    "Great, now that we have **# of beds available** in each state, let us extract the **# of corona cases** per state. This will help us to better understand the shortage of beds in the coming future."
   ]
  },
  {
   "cell_type": "markdown",
   "metadata": {},
   "source": [
    "## Scrape Data from the WEB\n",
    "\n",
    "We will be scraping the data from Ministry of Health & Family Welfare website.\n",
    "\n",
    "[MoHFW](https://www.mohfw.gov.in/)\n",
    "\n",
    "> BeautifulSoup - [Documentation](https://www.crummy.com/software/BeautifulSoup/bs4/doc/)\n",
    "\n",
    "> Further reading\n",
    "- https://do.co/2XzV5uT\n",
    "- https://bit.ly/2A2axqo"
   ]
  },
  {
   "cell_type": "markdown",
   "metadata": {},
   "source": [
    "### Get the *source* of the MoHFW webpage"
   ]
  },
  {
   "cell_type": "code",
   "execution_count": null,
   "metadata": {
    "ExecuteTime": {
     "end_time": "2020-06-10T05:28:20.198275Z",
     "start_time": "2020-06-10T05:28:19.585750Z"
    }
   },
   "outputs": [],
   "source": [
    "MOHFW_URL = 'https://www.mohfw.gov.in/'\n",
    "\n",
    "r = requests.get(MOHFW_URL)\n",
    "print(f'Status: {r.status_code}')"
   ]
  },
  {
   "cell_type": "markdown",
   "metadata": {},
   "source": [
    "### Extract the *table* from the *source*"
   ]
  },
  {
   "cell_type": "code",
   "execution_count": null,
   "metadata": {
    "ExecuteTime": {
     "end_time": "2020-06-10T05:28:22.704600Z",
     "start_time": "2020-06-10T05:28:22.702446Z"
    }
   },
   "outputs": [],
   "source": [
    "# !conda install -y -c conda-forge beautifulsoup4 bs4"
   ]
  },
  {
   "cell_type": "code",
   "execution_count": null,
   "metadata": {
    "ExecuteTime": {
     "end_time": "2020-06-10T05:28:23.632877Z",
     "start_time": "2020-06-10T05:28:23.482671Z"
    }
   },
   "outputs": [],
   "source": [
    "# Import BeautifulSoup\n",
    "import bs4\n",
    "from bs4 import BeautifulSoup as BS\n",
    "\n",
    "page = BS(r.content, 'html.parser')\n",
    "table = page.table"
   ]
  },
  {
   "cell_type": "markdown",
   "metadata": {},
   "source": [
    "### Look at the underlying structure of the *table*"
   ]
  },
  {
   "cell_type": "code",
   "execution_count": null,
   "metadata": {
    "ExecuteTime": {
     "end_time": "2020-06-10T05:28:26.781060Z",
     "start_time": "2020-06-10T05:28:26.778405Z"
    }
   },
   "outputs": [],
   "source": [
    "print(table.tbody.tr.prettify())"
   ]
  },
  {
   "cell_type": "markdown",
   "metadata": {},
   "source": [
    "### Extract *data* from the *table*"
   ]
  },
  {
   "cell_type": "code",
   "execution_count": null,
   "metadata": {
    "ExecuteTime": {
     "end_time": "2020-06-10T05:28:30.082592Z",
     "start_time": "2020-06-10T05:28:30.068807Z"
    }
   },
   "outputs": [],
   "source": [
    "from typing import List\n",
    "\n",
    "def extract_from_table(table: bs4.element.Tag) -> List:\n",
    "    '''Extracts data from HTML table.\n",
    "    \n",
    "    Input:  bs4 *table*\n",
    "    Return: List of all the values in the table\n",
    "    '''\n",
    "    data = list()\n",
    "    \n",
    "    for row in table.select('tbody tr'):\n",
    "        data.append([col.text for col in row.find_all('td')])\n",
    "        \n",
    "    return data\n",
    "\n",
    "data_table = extract_from_table(table)\n",
    "data_table"
   ]
  },
  {
   "cell_type": "markdown",
   "metadata": {},
   "source": [
    "### Create a `pandas DataFrame` from the *data_table* & fix the `dtypes`"
   ]
  },
  {
   "cell_type": "code",
   "execution_count": null,
   "metadata": {
    "ExecuteTime": {
     "end_time": "2020-06-10T05:28:34.036225Z",
     "start_time": "2020-06-10T05:28:34.031499Z"
    }
   },
   "outputs": [],
   "source": [
    "columns = ['sno', 'state', 'active', 'cured', 'dead', 'total']\n",
    "stats = pd.DataFrame(data_table[:-6], columns=columns)\n",
    "stats.dtypes"
   ]
  },
  {
   "cell_type": "code",
   "execution_count": null,
   "metadata": {
    "ExecuteTime": {
     "end_time": "2020-06-10T05:28:36.130842Z",
     "start_time": "2020-06-10T05:28:36.120910Z"
    }
   },
   "outputs": [],
   "source": [
    "stats[['active', 'cured', 'dead', 'total']] = stats[['active', 'cured', 'dead', 'total']].astype(int) "
   ]
  },
  {
   "cell_type": "markdown",
   "metadata": {},
   "source": [
    "### State wise deaths & cured cases"
   ]
  },
  {
   "cell_type": "code",
   "execution_count": null,
   "metadata": {
    "ExecuteTime": {
     "end_time": "2020-06-10T05:28:37.255161Z",
     "start_time": "2020-06-10T05:28:37.226360Z"
    }
   },
   "outputs": [],
   "source": [
    "(stats[['state', 'cured', 'dead']]\n",
    "     .style\n",
    "     .hide_index()\n",
    "     .background_gradient(cmap='YlGn'))"
   ]
  },
  {
   "cell_type": "markdown",
   "metadata": {},
   "source": [
    "### Exercise 3\n",
    "\n",
    "1. Find the top 5 states where the death rate is high \n",
    "2. Find the top 5 states where the cure rate is high\n",
    "3. Take a deep breath & try to understand the data!\n",
    "\n",
    "(Extra marks for visualizing the column)"
   ]
  },
  {
   "cell_type": "code",
   "execution_count": null,
   "metadata": {
    "ExecuteTime": {
     "end_time": "2020-06-10T05:28:41.496496Z",
     "start_time": "2020-06-10T05:28:41.494584Z"
    }
   },
   "outputs": [],
   "source": [
    "# 1"
   ]
  },
  {
   "cell_type": "code",
   "execution_count": null,
   "metadata": {
    "ExecuteTime": {
     "end_time": "2020-06-10T05:28:44.919418Z",
     "start_time": "2020-06-10T05:28:44.917545Z"
    }
   },
   "outputs": [],
   "source": [
    "# 2"
   ]
  },
  {
   "cell_type": "markdown",
   "metadata": {},
   "source": [
    "### Exercise 4\n",
    "\n",
    "Scrape the top section of [MoHFW](https://www.mohfw.gov.in/) page, containing total number of active cases, cured, deaths & migrated. "
   ]
  },
  {
   "cell_type": "markdown",
   "metadata": {},
   "source": [
    "* **What is unique about the section we are going to scrape in this page?**"
   ]
  },
  {
   "cell_type": "code",
   "execution_count": null,
   "metadata": {
    "ExecuteTime": {
     "end_time": "2020-06-10T05:28:49.862444Z",
     "start_time": "2020-06-10T05:28:49.848418Z"
    }
   },
   "outputs": [],
   "source": [
    "section = page.select('div.site-stats-count')[0]\n",
    "section"
   ]
  },
  {
   "cell_type": "code",
   "execution_count": null,
   "metadata": {
    "ExecuteTime": {
     "end_time": "2020-06-10T05:28:52.400742Z",
     "start_time": "2020-06-10T05:28:52.395220Z"
    }
   },
   "outputs": [],
   "source": [
    "# YOUR CODE GOES HERE"
   ]
  },
  {
   "cell_type": "markdown",
   "metadata": {},
   "source": [
    "Ahh cool! We now have state level cases data & the # of beds available with us. But can we do better?  \n",
    "Can we get data at District level instead? Let's try!"
   ]
  },
  {
   "cell_type": "markdown",
   "metadata": {},
   "source": [
    "## Parse Data from PDF\n",
    "\n",
    "We will be parsing the data from [National Health Profile (NHP)](https://www.cbhidghs.nic.in/index7.php?lang=1&level=0&linkid=1086&lid=1107&color=1) reports published by Central Bureau of Health Intelligence (CBHI) every year.  "
   ]
  },
  {
   "cell_type": "markdown",
   "metadata": {},
   "source": [
    "You can download the PDF from here: [NHP 2019](https://github.com/srmsoumya/dsct/raw/master/data/dw/nhrr/NHRR2019.pdf) & save it in `data` directory"
   ]
  },
  {
   "cell_type": "markdown",
   "metadata": {},
   "source": [
    "We will be using Camelot to parse PDF.  \n",
    "[Camelot](https://camelot-py.readthedocs.io/en/master/)"
   ]
  },
  {
   "cell_type": "markdown",
   "metadata": {},
   "source": [
    "### Extract *medical college data* from NHP 2019 report\n",
    "\n",
    "> Page [270-282]"
   ]
  },
  {
   "cell_type": "code",
   "execution_count": null,
   "metadata": {
    "ExecuteTime": {
     "end_time": "2020-06-10T05:29:38.711024Z",
     "start_time": "2020-06-10T05:29:05.569662Z"
    }
   },
   "outputs": [],
   "source": [
    "# !conda install -y -c conda-forge camelot-py (not working)\n",
    "!pip install camelot-py[cv]"
   ]
  },
  {
   "cell_type": "code",
   "execution_count": null,
   "metadata": {
    "ExecuteTime": {
     "end_time": "2020-06-10T05:29:42.155117Z",
     "start_time": "2020-06-10T05:29:42.067337Z"
    }
   },
   "outputs": [],
   "source": [
    "import camelot\n",
    "\n",
    "NHRR = DATA/'nhrr'/'NHRR2019.pdf'"
   ]
  },
  {
   "cell_type": "code",
   "execution_count": null,
   "metadata": {
    "ExecuteTime": {
     "end_time": "2020-06-10T05:30:08.462534Z",
     "start_time": "2020-06-10T05:29:47.917733Z"
    }
   },
   "outputs": [],
   "source": [
    "med_clgs = camelot.read_pdf(str(NHRR), pages='270-282', flavor='lattice')"
   ]
  },
  {
   "cell_type": "code",
   "execution_count": null,
   "metadata": {
    "ExecuteTime": {
     "end_time": "2020-06-10T05:30:21.754750Z",
     "start_time": "2020-06-10T05:30:21.748170Z"
    }
   },
   "outputs": [],
   "source": [
    "med_clgs[0].parsing_report"
   ]
  },
  {
   "cell_type": "code",
   "execution_count": null,
   "metadata": {
    "ExecuteTime": {
     "end_time": "2020-06-10T05:30:24.052695Z",
     "start_time": "2020-06-10T05:30:24.034399Z"
    }
   },
   "outputs": [],
   "source": [
    "med_clgs[0].df"
   ]
  },
  {
   "cell_type": "markdown",
   "metadata": {},
   "source": [
    "### Clean the table"
   ]
  },
  {
   "cell_type": "code",
   "execution_count": null,
   "metadata": {
    "ExecuteTime": {
     "end_time": "2020-06-10T05:30:27.705845Z",
     "start_time": "2020-06-10T05:30:27.682647Z"
    }
   },
   "outputs": [],
   "source": [
    "def extract_table(df: pd.DataFrame) -> pd.DataFrame:\n",
    "    '''Cleans the Dataframe'''\n",
    "    df = df.copy()                                           # Work on a copy\n",
    "    df.columns = df.iloc[0]                                  # Set Row 1 as the Column\n",
    "    df.drop(df.index[0], inplace=True)               # Delete Row 1\n",
    "    df.columns = [c.replace(' \\n', '') for c in df.columns]  # Format column names\n",
    "    df = df[df['S.No.'] != '']                               # Remove the total Rows\n",
    "    df.set_index(keys='S.No.', inplace=True)                 # Set S.No as the index\n",
    "    \n",
    "    return df\n",
    "\n",
    "med_clgs_df = pd.concat([extract_table(med_clgs[i].df) for i in range(13)])"
   ]
  },
  {
   "cell_type": "code",
   "execution_count": null,
   "metadata": {
    "ExecuteTime": {
     "end_time": "2020-06-10T05:30:29.960772Z",
     "start_time": "2020-06-10T05:30:29.953975Z"
    }
   },
   "outputs": [],
   "source": [
    "# Fill the missing names in `State/UT` column, format the names\n",
    "med_clgs_df['State/UT'] = med_clgs_df['State/UT'].replace(r'^\\s*$', np.nan, regex=True)\\\n",
    "                                                 .ffill()\\\n",
    "                                                 .str.replace('\\n', '')"
   ]
  },
  {
   "cell_type": "code",
   "execution_count": null,
   "metadata": {
    "ExecuteTime": {
     "end_time": "2020-06-10T05:30:30.759455Z",
     "start_time": "2020-06-10T05:30:30.751870Z"
    }
   },
   "outputs": [],
   "source": [
    "med_clgs_df.head()"
   ]
  },
  {
   "cell_type": "markdown",
   "metadata": {
    "ExecuteTime": {
     "end_time": "2020-06-06T11:24:33.235240Z",
     "start_time": "2020-06-06T11:24:33.117043Z"
    }
   },
   "source": [
    "### Save the data to a CSV file"
   ]
  },
  {
   "cell_type": "code",
   "execution_count": null,
   "metadata": {
    "ExecuteTime": {
     "end_time": "2020-06-10T05:30:37.213624Z",
     "start_time": "2020-06-10T05:30:37.206008Z"
    }
   },
   "outputs": [],
   "source": [
    "med_clgs_df.to_csv(DATA/'medical_college_list.csv', index=False)"
   ]
  },
  {
   "cell_type": "markdown",
   "metadata": {},
   "source": [
    "### *Exercise 5\n",
    "\n",
    "Extract **Pneumonia** data from NHP 2019 report\n",
    "> Page: [139]"
   ]
  },
  {
   "cell_type": "code",
   "execution_count": null,
   "metadata": {
    "ExecuteTime": {
     "end_time": "2020-06-10T05:31:07.621811Z",
     "start_time": "2020-06-10T05:31:07.620129Z"
    }
   },
   "outputs": [],
   "source": [
    "# YOUR CODE GOES HERE"
   ]
  }
 ],
 "metadata": {
  "kernelspec": {
   "display_name": "Python 3",
   "language": "python",
   "name": "python3"
  },
  "language_info": {
   "codemirror_mode": {
    "name": "ipython",
    "version": 3
   },
   "file_extension": ".py",
   "mimetype": "text/x-python",
   "name": "python",
   "nbconvert_exporter": "python",
   "pygments_lexer": "ipython3",
   "version": "3.8.1"
  },
  "toc": {
   "base_numbering": 1,
   "nav_menu": {},
   "number_sections": true,
   "sideBar": true,
   "skip_h1_title": false,
   "title_cell": "Table of Contents",
   "title_sidebar": "Contents",
   "toc_cell": false,
   "toc_position": {
    "height": "calc(100% - 180px)",
    "left": "10px",
    "top": "150px",
    "width": "380px"
   },
   "toc_section_display": true,
   "toc_window_display": true
  }
 },
 "nbformat": 4,
 "nbformat_minor": 4
}
