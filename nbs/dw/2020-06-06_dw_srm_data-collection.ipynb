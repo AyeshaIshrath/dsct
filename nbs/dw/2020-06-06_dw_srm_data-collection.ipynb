{
 "cells": [
  {
   "cell_type": "markdown",
   "metadata": {},
   "source": [
    "# Data Collection\n",
    "<br>\n",
    "Given the COVID-19 crisis, we will try to understand the health care capacity for India.\n",
    "<br><br>\n",
    "<i>The fight against COVID-19 is all about flattening the curve.</i>\n",
    "<br>\n",
    "<img src='https://thespinoff.co.nz/wp-content/uploads/2020/03/Covid-19-curves-graphic-social-v3.gif' alt='Flatten the curve' width=600 align='left'>"
   ]
  },
  {
   "cell_type": "markdown",
   "metadata": {},
   "source": [
    "* **What data do we need to better understand the healthcare capacity of India?**\n",
    "    - Discuss"
   ]
  },
  {
   "cell_type": "markdown",
   "metadata": {},
   "source": [
    "Now that we understand what data we need to estimate the health care capacity for India. The logical next step is to find relevant data sources.\n",
    "Unfortunately, this is not a straight forward process. There are multiple ways in which we can start searching for data sources, here are a few ways to start with:\n",
    "1. Quick google search\n",
    "2. Public [APIs](https://api.covid19india.org/)\n",
    "3. Official websites, in this case [MoHFW](https://www.mohfw.gov.in/) and [ICMR](https://www.icmr.gov.in/)\n",
    "4. Data groups working on similar space [datameet](http://datameet.org/)\n",
    "5. Public feeds like twitter or facebook\n",
    "6. [data.world](https://data.world/)"
   ]
  },
  {
   "cell_type": "markdown",
   "metadata": {},
   "source": [
    "**Poll 1: Before we start, how much time do you think a Data Scientist spends in munging the data?**"
   ]
  },
  {
   "cell_type": "markdown",
   "metadata": {},
   "source": [
    "## Pull Data from an API\n",
    "\n",
    "Let us now pull the hospital beds data for **India**.     \n",
    "[COVID 19 API List for India](https://api.rootnet.in/)"
   ]
  },
  {
   "cell_type": "code",
   "execution_count": 1,
   "metadata": {
    "ExecuteTime": {
     "end_time": "2020-06-11T03:47:07.288147Z",
     "start_time": "2020-06-11T03:47:06.860653Z"
    }
   },
   "outputs": [
    {
     "name": "stdout",
     "output_type": "stream",
     "text": [
      "ari_2018.csv\t  medical_college_list.csv  nurses.csv\t\t population.csv\r\n",
      "doctors.csv\t  mohfw.csv\t\t    pneumonia_2018.csv\r\n",
      "govt_doctors.csv  nhrr\t\t\t    pop_by_age_2017.csv\r\n"
     ]
    }
   ],
   "source": [
    "# Import libraries\n",
    "import requests\n",
    "import numpy as np\n",
    "import pandas as pd\n",
    "from pathlib import Path\n",
    "\n",
    "# Set data path\n",
    "DATA = Path('data')\n",
    "!ls {DATA}"
   ]
  },
  {
   "cell_type": "markdown",
   "metadata": {},
   "source": [
    "### Get data from the API"
   ]
  },
  {
   "cell_type": "code",
   "execution_count": 2,
   "metadata": {
    "ExecuteTime": {
     "end_time": "2020-06-11T03:47:08.345302Z",
     "start_time": "2020-06-11T03:47:07.855106Z"
    }
   },
   "outputs": [
    {
     "name": "stdout",
     "output_type": "stream",
     "text": [
      "Status 200\n"
     ]
    }
   ],
   "source": [
    "BED_URL = 'https://api.rootnet.in/covid19-in/hospitals/beds'\n",
    "\n",
    "r = requests.get(BED_URL)\n",
    "print(f'Status {r.status_code}')\n"
   ]
  },
  {
   "cell_type": "markdown",
   "metadata": {},
   "source": [
    "### Load it into a `pandas DataFrame`"
   ]
  },
  {
   "cell_type": "code",
   "execution_count": 3,
   "metadata": {
    "ExecuteTime": {
     "end_time": "2020-06-11T03:47:10.233098Z",
     "start_time": "2020-06-11T03:47:10.219322Z"
    }
   },
   "outputs": [
    {
     "data": {
      "text/html": [
       "<div>\n",
       "<style scoped>\n",
       "    .dataframe tbody tr th:only-of-type {\n",
       "        vertical-align: middle;\n",
       "    }\n",
       "\n",
       "    .dataframe tbody tr th {\n",
       "        vertical-align: top;\n",
       "    }\n",
       "\n",
       "    .dataframe thead th {\n",
       "        text-align: right;\n",
       "    }\n",
       "</style>\n",
       "<table border=\"1\" class=\"dataframe\">\n",
       "  <thead>\n",
       "    <tr style=\"text-align: right;\">\n",
       "      <th></th>\n",
       "      <th>state</th>\n",
       "      <th>ruralHospitals</th>\n",
       "      <th>ruralBeds</th>\n",
       "      <th>urbanHospitals</th>\n",
       "      <th>urbanBeds</th>\n",
       "      <th>totalHospitals</th>\n",
       "      <th>totalBeds</th>\n",
       "      <th>asOn</th>\n",
       "    </tr>\n",
       "  </thead>\n",
       "  <tbody>\n",
       "    <tr>\n",
       "      <th>0</th>\n",
       "      <td>Andhra Pradesh</td>\n",
       "      <td>193</td>\n",
       "      <td>6480</td>\n",
       "      <td>65</td>\n",
       "      <td>16658</td>\n",
       "      <td>258</td>\n",
       "      <td>23138</td>\n",
       "      <td>2017-01-01T00:00:00.000Z</td>\n",
       "    </tr>\n",
       "    <tr>\n",
       "      <th>1</th>\n",
       "      <td>Arunachal Pradesh</td>\n",
       "      <td>208</td>\n",
       "      <td>2136</td>\n",
       "      <td>10</td>\n",
       "      <td>268</td>\n",
       "      <td>218</td>\n",
       "      <td>2404</td>\n",
       "      <td>2017-12-31T00:00:00.000Z</td>\n",
       "    </tr>\n",
       "    <tr>\n",
       "      <th>2</th>\n",
       "      <td>Assam</td>\n",
       "      <td>1176</td>\n",
       "      <td>10944</td>\n",
       "      <td>50</td>\n",
       "      <td>6198</td>\n",
       "      <td>1226</td>\n",
       "      <td>17142</td>\n",
       "      <td>2017-12-31T00:00:00.000Z</td>\n",
       "    </tr>\n",
       "    <tr>\n",
       "      <th>3</th>\n",
       "      <td>Bihar</td>\n",
       "      <td>930</td>\n",
       "      <td>6083</td>\n",
       "      <td>103</td>\n",
       "      <td>5936</td>\n",
       "      <td>1033</td>\n",
       "      <td>12019</td>\n",
       "      <td>2016-12-31T00:00:00.000Z</td>\n",
       "    </tr>\n",
       "    <tr>\n",
       "      <th>4</th>\n",
       "      <td>Chhattisgarh</td>\n",
       "      <td>169</td>\n",
       "      <td>5070</td>\n",
       "      <td>45</td>\n",
       "      <td>4342</td>\n",
       "      <td>214</td>\n",
       "      <td>9412</td>\n",
       "      <td>2016-01-01T00:00:00.000Z</td>\n",
       "    </tr>\n",
       "  </tbody>\n",
       "</table>\n",
       "</div>"
      ],
      "text/plain": [
       "               state  ruralHospitals  ruralBeds  urbanHospitals  urbanBeds  \\\n",
       "0     Andhra Pradesh             193       6480              65      16658   \n",
       "1  Arunachal Pradesh             208       2136              10        268   \n",
       "2              Assam            1176      10944              50       6198   \n",
       "3              Bihar             930       6083             103       5936   \n",
       "4       Chhattisgarh             169       5070              45       4342   \n",
       "\n",
       "   totalHospitals  totalBeds                      asOn  \n",
       "0             258      23138  2017-01-01T00:00:00.000Z  \n",
       "1             218       2404  2017-12-31T00:00:00.000Z  \n",
       "2            1226      17142  2017-12-31T00:00:00.000Z  \n",
       "3            1033      12019  2016-12-31T00:00:00.000Z  \n",
       "4             214       9412  2016-01-01T00:00:00.000Z  "
      ]
     },
     "execution_count": 3,
     "metadata": {},
     "output_type": "execute_result"
    }
   ],
   "source": [
    "api = r.json()\n",
    "\n",
    "beds = pd.DataFrame(api['data']['regional'])\n",
    "beds.head()"
   ]
  },
  {
   "cell_type": "markdown",
   "metadata": {},
   "source": [
    "### State wise bed count"
   ]
  },
  {
   "cell_type": "code",
   "execution_count": 4,
   "metadata": {
    "ExecuteTime": {
     "end_time": "2020-06-11T03:47:12.467012Z",
     "start_time": "2020-06-11T03:47:12.305012Z"
    }
   },
   "outputs": [
    {
     "data": {
      "text/html": [
       "<style  type=\"text/css\" >\n",
       "    #T_3bc7c98c_ab96_11ea_91e1_a86daa0a00farow0_col1 {\n",
       "            background-color:  #cbea9c;\n",
       "            color:  #000000;\n",
       "        }    #T_3bc7c98c_ab96_11ea_91e1_a86daa0a00farow1_col1 {\n",
       "            background-color:  #fdfedb;\n",
       "            color:  #000000;\n",
       "        }    #T_3bc7c98c_ab96_11ea_91e1_a86daa0a00farow2_col1 {\n",
       "            background-color:  #e1f3a9;\n",
       "            color:  #000000;\n",
       "        }    #T_3bc7c98c_ab96_11ea_91e1_a86daa0a00farow3_col1 {\n",
       "            background-color:  #f1fab5;\n",
       "            color:  #000000;\n",
       "        }    #T_3bc7c98c_ab96_11ea_91e1_a86daa0a00farow4_col1 {\n",
       "            background-color:  #f8fcbd;\n",
       "            color:  #000000;\n",
       "        }    #T_3bc7c98c_ab96_11ea_91e1_a86daa0a00farow5_col1 {\n",
       "            background-color:  #fdfed9;\n",
       "            color:  #000000;\n",
       "        }    #T_3bc7c98c_ab96_11ea_91e1_a86daa0a00farow6_col1 {\n",
       "            background-color:  #9fd788;\n",
       "            color:  #000000;\n",
       "        }    #T_3bc7c98c_ab96_11ea_91e1_a86daa0a00farow7_col1 {\n",
       "            background-color:  #f4fbb7;\n",
       "            color:  #000000;\n",
       "        }    #T_3bc7c98c_ab96_11ea_91e1_a86daa0a00farow8_col1 {\n",
       "            background-color:  #f0f9b4;\n",
       "            color:  #000000;\n",
       "        }    #T_3bc7c98c_ab96_11ea_91e1_a86daa0a00farow9_col1 {\n",
       "            background-color:  #f2fab5;\n",
       "            color:  #000000;\n",
       "        }    #T_3bc7c98c_ab96_11ea_91e1_a86daa0a00farow10_col1 {\n",
       "            background-color:  #f5fbb8;\n",
       "            color:  #000000;\n",
       "        }    #T_3bc7c98c_ab96_11ea_91e1_a86daa0a00farow11_col1 {\n",
       "            background-color:  #006335;\n",
       "            color:  #f1f1f1;\n",
       "        }    #T_3bc7c98c_ab96_11ea_91e1_a86daa0a00farow12_col1 {\n",
       "            background-color:  #7fc97c;\n",
       "            color:  #000000;\n",
       "        }    #T_3bc7c98c_ab96_11ea_91e1_a86daa0a00farow13_col1 {\n",
       "            background-color:  #b1df90;\n",
       "            color:  #000000;\n",
       "        }    #T_3bc7c98c_ab96_11ea_91e1_a86daa0a00farow14_col1 {\n",
       "            background-color:  #3aa257;\n",
       "            color:  #000000;\n",
       "        }    #T_3bc7c98c_ab96_11ea_91e1_a86daa0a00farow15_col1 {\n",
       "            background-color:  #feffe1;\n",
       "            color:  #000000;\n",
       "        }    #T_3bc7c98c_ab96_11ea_91e1_a86daa0a00farow16_col1 {\n",
       "            background-color:  #fcfed3;\n",
       "            color:  #000000;\n",
       "        }    #T_3bc7c98c_ab96_11ea_91e1_a86daa0a00farow17_col1 {\n",
       "            background-color:  #feffde;\n",
       "            color:  #000000;\n",
       "        }    #T_3bc7c98c_ab96_11ea_91e1_a86daa0a00farow18_col1 {\n",
       "            background-color:  #feffde;\n",
       "            color:  #000000;\n",
       "        }    #T_3bc7c98c_ab96_11ea_91e1_a86daa0a00farow19_col1 {\n",
       "            background-color:  #ddf2a6;\n",
       "            color:  #000000;\n",
       "        }    #T_3bc7c98c_ab96_11ea_91e1_a86daa0a00farow20_col1 {\n",
       "            background-color:  #dff3a8;\n",
       "            color:  #000000;\n",
       "        }    #T_3bc7c98c_ab96_11ea_91e1_a86daa0a00farow21_col1 {\n",
       "            background-color:  #a1d889;\n",
       "            color:  #000000;\n",
       "        }    #T_3bc7c98c_ab96_11ea_91e1_a86daa0a00farow22_col1 {\n",
       "            background-color:  #feffdf;\n",
       "            color:  #000000;\n",
       "        }    #T_3bc7c98c_ab96_11ea_91e1_a86daa0a00farow23_col1 {\n",
       "            background-color:  #00482a;\n",
       "            color:  #f1f1f1;\n",
       "        }    #T_3bc7c98c_ab96_11ea_91e1_a86daa0a00farow24_col1 {\n",
       "            background-color:  #d5eea1;\n",
       "            color:  #000000;\n",
       "        }    #T_3bc7c98c_ab96_11ea_91e1_a86daa0a00farow25_col1 {\n",
       "            background-color:  #fcfed3;\n",
       "            color:  #000000;\n",
       "        }    #T_3bc7c98c_ab96_11ea_91e1_a86daa0a00farow26_col1 {\n",
       "            background-color:  #004d2c;\n",
       "            color:  #f1f1f1;\n",
       "        }    #T_3bc7c98c_ab96_11ea_91e1_a86daa0a00farow27_col1 {\n",
       "            background-color:  #f8fcc0;\n",
       "            color:  #000000;\n",
       "        }    #T_3bc7c98c_ab96_11ea_91e1_a86daa0a00farow28_col1 {\n",
       "            background-color:  #004529;\n",
       "            color:  #f1f1f1;\n",
       "        }    #T_3bc7c98c_ab96_11ea_91e1_a86daa0a00farow29_col1 {\n",
       "            background-color:  #feffe2;\n",
       "            color:  #000000;\n",
       "        }    #T_3bc7c98c_ab96_11ea_91e1_a86daa0a00farow30_col1 {\n",
       "            background-color:  #ffffe4;\n",
       "            color:  #000000;\n",
       "        }    #T_3bc7c98c_ab96_11ea_91e1_a86daa0a00farow31_col1 {\n",
       "            background-color:  #ffffe4;\n",
       "            color:  #000000;\n",
       "        }    #T_3bc7c98c_ab96_11ea_91e1_a86daa0a00farow32_col1 {\n",
       "            background-color:  #ffffe5;\n",
       "            color:  #000000;\n",
       "        }    #T_3bc7c98c_ab96_11ea_91e1_a86daa0a00farow33_col1 {\n",
       "            background-color:  #c5e89a;\n",
       "            color:  #000000;\n",
       "        }    #T_3bc7c98c_ab96_11ea_91e1_a86daa0a00farow34_col1 {\n",
       "            background-color:  #ffffe5;\n",
       "            color:  #000000;\n",
       "        }    #T_3bc7c98c_ab96_11ea_91e1_a86daa0a00farow35_col1 {\n",
       "            background-color:  #fcfed7;\n",
       "            color:  #000000;\n",
       "        }</style><table id=\"T_3bc7c98c_ab96_11ea_91e1_a86daa0a00fa\" ><thead>    <tr>        <th class=\"col_heading level0 col0\" >state</th>        <th class=\"col_heading level0 col1\" >totalBeds</th>    </tr></thead><tbody>\n",
       "                <tr>\n",
       "                                <td id=\"T_3bc7c98c_ab96_11ea_91e1_a86daa0a00farow0_col0\" class=\"data row0 col0\" >Andhra Pradesh</td>\n",
       "                        <td id=\"T_3bc7c98c_ab96_11ea_91e1_a86daa0a00farow0_col1\" class=\"data row0 col1\" >23138</td>\n",
       "            </tr>\n",
       "            <tr>\n",
       "                                <td id=\"T_3bc7c98c_ab96_11ea_91e1_a86daa0a00farow1_col0\" class=\"data row1 col0\" >Arunachal Pradesh</td>\n",
       "                        <td id=\"T_3bc7c98c_ab96_11ea_91e1_a86daa0a00farow1_col1\" class=\"data row1 col1\" >2404</td>\n",
       "            </tr>\n",
       "            <tr>\n",
       "                                <td id=\"T_3bc7c98c_ab96_11ea_91e1_a86daa0a00farow2_col0\" class=\"data row2 col0\" >Assam</td>\n",
       "                        <td id=\"T_3bc7c98c_ab96_11ea_91e1_a86daa0a00farow2_col1\" class=\"data row2 col1\" >17142</td>\n",
       "            </tr>\n",
       "            <tr>\n",
       "                                <td id=\"T_3bc7c98c_ab96_11ea_91e1_a86daa0a00farow3_col0\" class=\"data row3 col0\" >Bihar</td>\n",
       "                        <td id=\"T_3bc7c98c_ab96_11ea_91e1_a86daa0a00farow3_col1\" class=\"data row3 col1\" >12019</td>\n",
       "            </tr>\n",
       "            <tr>\n",
       "                                <td id=\"T_3bc7c98c_ab96_11ea_91e1_a86daa0a00farow4_col0\" class=\"data row4 col0\" >Chhattisgarh</td>\n",
       "                        <td id=\"T_3bc7c98c_ab96_11ea_91e1_a86daa0a00farow4_col1\" class=\"data row4 col1\" >9412</td>\n",
       "            </tr>\n",
       "            <tr>\n",
       "                                <td id=\"T_3bc7c98c_ab96_11ea_91e1_a86daa0a00farow5_col0\" class=\"data row5 col0\" >Goa</td>\n",
       "                        <td id=\"T_3bc7c98c_ab96_11ea_91e1_a86daa0a00farow5_col1\" class=\"data row5 col1\" >3013</td>\n",
       "            </tr>\n",
       "            <tr>\n",
       "                                <td id=\"T_3bc7c98c_ab96_11ea_91e1_a86daa0a00farow6_col0\" class=\"data row6 col0\" >Gujarat</td>\n",
       "                        <td id=\"T_3bc7c98c_ab96_11ea_91e1_a86daa0a00farow6_col1\" class=\"data row6 col1\" >32280</td>\n",
       "            </tr>\n",
       "            <tr>\n",
       "                                <td id=\"T_3bc7c98c_ab96_11ea_91e1_a86daa0a00farow7_col0\" class=\"data row7 col0\" >Haryana</td>\n",
       "                        <td id=\"T_3bc7c98c_ab96_11ea_91e1_a86daa0a00farow7_col1\" class=\"data row7 col1\" >11240</td>\n",
       "            </tr>\n",
       "            <tr>\n",
       "                                <td id=\"T_3bc7c98c_ab96_11ea_91e1_a86daa0a00farow8_col0\" class=\"data row8 col0\" >Himachal Pradesh</td>\n",
       "                        <td id=\"T_3bc7c98c_ab96_11ea_91e1_a86daa0a00farow8_col1\" class=\"data row8 col1\" >12399</td>\n",
       "            </tr>\n",
       "            <tr>\n",
       "                                <td id=\"T_3bc7c98c_ab96_11ea_91e1_a86daa0a00farow9_col0\" class=\"data row9 col0\" >Jammu & Kashmir</td>\n",
       "                        <td id=\"T_3bc7c98c_ab96_11ea_91e1_a86daa0a00farow9_col1\" class=\"data row9 col1\" >11651</td>\n",
       "            </tr>\n",
       "            <tr>\n",
       "                                <td id=\"T_3bc7c98c_ab96_11ea_91e1_a86daa0a00farow10_col0\" class=\"data row10 col0\" >Jharkhand</td>\n",
       "                        <td id=\"T_3bc7c98c_ab96_11ea_91e1_a86daa0a00farow10_col1\" class=\"data row10 col1\" >10784</td>\n",
       "            </tr>\n",
       "            <tr>\n",
       "                                <td id=\"T_3bc7c98c_ab96_11ea_91e1_a86daa0a00farow11_col0\" class=\"data row11 col0\" >Karnataka</td>\n",
       "                        <td id=\"T_3bc7c98c_ab96_11ea_91e1_a86daa0a00farow11_col1\" class=\"data row11 col1\" >70165</td>\n",
       "            </tr>\n",
       "            <tr>\n",
       "                                <td id=\"T_3bc7c98c_ab96_11ea_91e1_a86daa0a00farow12_col0\" class=\"data row12 col0\" >Kerala</td>\n",
       "                        <td id=\"T_3bc7c98c_ab96_11ea_91e1_a86daa0a00farow12_col1\" class=\"data row12 col1\" >38004</td>\n",
       "            </tr>\n",
       "            <tr>\n",
       "                                <td id=\"T_3bc7c98c_ab96_11ea_91e1_a86daa0a00farow13_col0\" class=\"data row13 col0\" >Madhya Pradesh</td>\n",
       "                        <td id=\"T_3bc7c98c_ab96_11ea_91e1_a86daa0a00farow13_col1\" class=\"data row13 col1\" >28839</td>\n",
       "            </tr>\n",
       "            <tr>\n",
       "                                <td id=\"T_3bc7c98c_ab96_11ea_91e1_a86daa0a00farow14_col0\" class=\"data row14 col0\" >Maharashtra</td>\n",
       "                        <td id=\"T_3bc7c98c_ab96_11ea_91e1_a86daa0a00farow14_col1\" class=\"data row14 col1\" >51446</td>\n",
       "            </tr>\n",
       "            <tr>\n",
       "                                <td id=\"T_3bc7c98c_ab96_11ea_91e1_a86daa0a00farow15_col0\" class=\"data row15 col0\" >Manipur</td>\n",
       "                        <td id=\"T_3bc7c98c_ab96_11ea_91e1_a86daa0a00farow15_col1\" class=\"data row15 col1\" >1427</td>\n",
       "            </tr>\n",
       "            <tr>\n",
       "                                <td id=\"T_3bc7c98c_ab96_11ea_91e1_a86daa0a00farow16_col0\" class=\"data row16 col0\" >Meghalaya</td>\n",
       "                        <td id=\"T_3bc7c98c_ab96_11ea_91e1_a86daa0a00farow16_col1\" class=\"data row16 col1\" >4457</td>\n",
       "            </tr>\n",
       "            <tr>\n",
       "                                <td id=\"T_3bc7c98c_ab96_11ea_91e1_a86daa0a00farow17_col0\" class=\"data row17 col0\" >Mizoram</td>\n",
       "                        <td id=\"T_3bc7c98c_ab96_11ea_91e1_a86daa0a00farow17_col1\" class=\"data row17 col1\" >1997</td>\n",
       "            </tr>\n",
       "            <tr>\n",
       "                                <td id=\"T_3bc7c98c_ab96_11ea_91e1_a86daa0a00farow18_col0\" class=\"data row18 col0\" >Nagaland</td>\n",
       "                        <td id=\"T_3bc7c98c_ab96_11ea_91e1_a86daa0a00farow18_col1\" class=\"data row18 col1\" >1880</td>\n",
       "            </tr>\n",
       "            <tr>\n",
       "                                <td id=\"T_3bc7c98c_ab96_11ea_91e1_a86daa0a00farow19_col0\" class=\"data row19 col0\" >Odisha</td>\n",
       "                        <td id=\"T_3bc7c98c_ab96_11ea_91e1_a86daa0a00farow19_col1\" class=\"data row19 col1\" >18519</td>\n",
       "            </tr>\n",
       "            <tr>\n",
       "                                <td id=\"T_3bc7c98c_ab96_11ea_91e1_a86daa0a00farow20_col0\" class=\"data row20 col0\" >Punjab</td>\n",
       "                        <td id=\"T_3bc7c98c_ab96_11ea_91e1_a86daa0a00farow20_col1\" class=\"data row20 col1\" >17933</td>\n",
       "            </tr>\n",
       "            <tr>\n",
       "                                <td id=\"T_3bc7c98c_ab96_11ea_91e1_a86daa0a00farow21_col0\" class=\"data row21 col0\" >Rajasthan</td>\n",
       "                        <td id=\"T_3bc7c98c_ab96_11ea_91e1_a86daa0a00farow21_col1\" class=\"data row21 col1\" >31848</td>\n",
       "            </tr>\n",
       "            <tr>\n",
       "                                <td id=\"T_3bc7c98c_ab96_11ea_91e1_a86daa0a00farow22_col0\" class=\"data row22 col0\" >Sikkim</td>\n",
       "                        <td id=\"T_3bc7c98c_ab96_11ea_91e1_a86daa0a00farow22_col1\" class=\"data row22 col1\" >1560</td>\n",
       "            </tr>\n",
       "            <tr>\n",
       "                                <td id=\"T_3bc7c98c_ab96_11ea_91e1_a86daa0a00farow23_col0\" class=\"data row23 col0\" >Tamil Nadu</td>\n",
       "                        <td id=\"T_3bc7c98c_ab96_11ea_91e1_a86daa0a00farow23_col1\" class=\"data row23 col1\" >77532</td>\n",
       "            </tr>\n",
       "            <tr>\n",
       "                                <td id=\"T_3bc7c98c_ab96_11ea_91e1_a86daa0a00farow24_col0\" class=\"data row24 col0\" >Telangana</td>\n",
       "                        <td id=\"T_3bc7c98c_ab96_11ea_91e1_a86daa0a00farow24_col1\" class=\"data row24 col1\" >20983</td>\n",
       "            </tr>\n",
       "            <tr>\n",
       "                                <td id=\"T_3bc7c98c_ab96_11ea_91e1_a86daa0a00farow25_col0\" class=\"data row25 col0\" >Tripura</td>\n",
       "                        <td id=\"T_3bc7c98c_ab96_11ea_91e1_a86daa0a00farow25_col1\" class=\"data row25 col1\" >4417</td>\n",
       "            </tr>\n",
       "            <tr>\n",
       "                                <td id=\"T_3bc7c98c_ab96_11ea_91e1_a86daa0a00farow26_col0\" class=\"data row26 col0\" >Uttar Pradesh</td>\n",
       "                        <td id=\"T_3bc7c98c_ab96_11ea_91e1_a86daa0a00farow26_col1\" class=\"data row26 col1\" >76260</td>\n",
       "            </tr>\n",
       "            <tr>\n",
       "                                <td id=\"T_3bc7c98c_ab96_11ea_91e1_a86daa0a00farow27_col0\" class=\"data row27 col0\" >Uttarakhand</td>\n",
       "                        <td id=\"T_3bc7c98c_ab96_11ea_91e1_a86daa0a00farow27_col1\" class=\"data row27 col1\" >8512</td>\n",
       "            </tr>\n",
       "            <tr>\n",
       "                                <td id=\"T_3bc7c98c_ab96_11ea_91e1_a86daa0a00farow28_col0\" class=\"data row28 col0\" >West Bengal</td>\n",
       "                        <td id=\"T_3bc7c98c_ab96_11ea_91e1_a86daa0a00farow28_col1\" class=\"data row28 col1\" >78566</td>\n",
       "            </tr>\n",
       "            <tr>\n",
       "                                <td id=\"T_3bc7c98c_ab96_11ea_91e1_a86daa0a00farow29_col0\" class=\"data row29 col0\" >Andaman & Nicobar Islands</td>\n",
       "                        <td id=\"T_3bc7c98c_ab96_11ea_91e1_a86daa0a00farow29_col1\" class=\"data row29 col1\" >1075</td>\n",
       "            </tr>\n",
       "            <tr>\n",
       "                                <td id=\"T_3bc7c98c_ab96_11ea_91e1_a86daa0a00farow30_col0\" class=\"data row30 col0\" >Chandigarh</td>\n",
       "                        <td id=\"T_3bc7c98c_ab96_11ea_91e1_a86daa0a00farow30_col1\" class=\"data row30 col1\" >778</td>\n",
       "            </tr>\n",
       "            <tr>\n",
       "                                <td id=\"T_3bc7c98c_ab96_11ea_91e1_a86daa0a00farow31_col0\" class=\"data row31 col0\" >Dadra & Nagar Haveli</td>\n",
       "                        <td id=\"T_3bc7c98c_ab96_11ea_91e1_a86daa0a00farow31_col1\" class=\"data row31 col1\" >589</td>\n",
       "            </tr>\n",
       "            <tr>\n",
       "                                <td id=\"T_3bc7c98c_ab96_11ea_91e1_a86daa0a00farow32_col0\" class=\"data row32 col0\" >Daman & Diu</td>\n",
       "                        <td id=\"T_3bc7c98c_ab96_11ea_91e1_a86daa0a00farow32_col1\" class=\"data row32 col1\" >240</td>\n",
       "            </tr>\n",
       "            <tr>\n",
       "                                <td id=\"T_3bc7c98c_ab96_11ea_91e1_a86daa0a00farow33_col0\" class=\"data row33 col0\" >Delhi</td>\n",
       "                        <td id=\"T_3bc7c98c_ab96_11ea_91e1_a86daa0a00farow33_col1\" class=\"data row33 col1\" >24383</td>\n",
       "            </tr>\n",
       "            <tr>\n",
       "                                <td id=\"T_3bc7c98c_ab96_11ea_91e1_a86daa0a00farow34_col0\" class=\"data row34 col0\" >Lakshadweep</td>\n",
       "                        <td id=\"T_3bc7c98c_ab96_11ea_91e1_a86daa0a00farow34_col1\" class=\"data row34 col1\" >300</td>\n",
       "            </tr>\n",
       "            <tr>\n",
       "                                <td id=\"T_3bc7c98c_ab96_11ea_91e1_a86daa0a00farow35_col0\" class=\"data row35 col0\" >Puducherry</td>\n",
       "                        <td id=\"T_3bc7c98c_ab96_11ea_91e1_a86daa0a00farow35_col1\" class=\"data row35 col1\" >3569</td>\n",
       "            </tr>\n",
       "    </tbody></table>"
      ],
      "text/plain": [
       "<pandas.io.formats.style.Styler at 0x7fab806c7550>"
      ]
     },
     "execution_count": 4,
     "metadata": {},
     "output_type": "execute_result"
    }
   ],
   "source": [
    "(beds[:-1][['state', 'totalBeds']]\n",
    "     .style\n",
    "     .hide_index()\n",
    "     .background_gradient(subset='totalBeds', cmap='YlGn'))"
   ]
  },
  {
   "cell_type": "markdown",
   "metadata": {},
   "source": [
    "### Exercise 1\n",
    "\n",
    "1. Find top 5 states with maximum number of hospital beds?\n",
    "2. Find top 10 states with least number of rural beds?  \n",
    "***\n",
    "* Hint: Remember there is a total row in the dataframe"
   ]
  },
  {
   "cell_type": "code",
   "execution_count": null,
   "metadata": {
    "ExecuteTime": {
     "end_time": "2020-06-10T05:28:03.792218Z",
     "start_time": "2020-06-10T05:28:03.787240Z"
    }
   },
   "outputs": [],
   "source": [
    "# 1"
   ]
  },
  {
   "cell_type": "code",
   "execution_count": null,
   "metadata": {
    "ExecuteTime": {
     "end_time": "2020-06-10T05:28:04.518493Z",
     "start_time": "2020-06-10T05:28:04.516546Z"
    }
   },
   "outputs": [],
   "source": [
    "# 2"
   ]
  },
  {
   "cell_type": "markdown",
   "metadata": {},
   "source": [
    "### Exercise 2\n",
    "\n",
    "1. Get data for hospital stats at a more granular level. Use the [Medical College API](https://api.rootnet.in/covid19-in/hospitals/medical-colleges)\n",
    "2. Check the status code\n",
    "3. Load the `medicalColleges` data into pandas DataFrame. (Hint: Check the structure of the response before loading it into the DataFrame)\n",
    "4. Find top 5 states with minimum & maximum number of `hospitalBeds`\n",
    "5. Did you notice any difference in number of hospital beds? Can you reason why?\n"
   ]
  },
  {
   "cell_type": "code",
   "execution_count": null,
   "metadata": {
    "ExecuteTime": {
     "end_time": "2020-06-10T05:28:11.697572Z",
     "start_time": "2020-06-10T05:28:11.695285Z"
    }
   },
   "outputs": [],
   "source": [
    "# 1\n",
    "COLLEGE_URL = 'https://api.rootnet.in/covid19-in/hospitals/medical-colleges'\n",
    "\n",
    "# YOUR CODE GOES HERE"
   ]
  },
  {
   "cell_type": "code",
   "execution_count": null,
   "metadata": {
    "ExecuteTime": {
     "end_time": "2020-06-10T05:28:12.212453Z",
     "start_time": "2020-06-10T05:28:12.208676Z"
    }
   },
   "outputs": [],
   "source": [
    "# 2"
   ]
  },
  {
   "cell_type": "code",
   "execution_count": null,
   "metadata": {
    "ExecuteTime": {
     "end_time": "2020-06-10T05:28:12.669432Z",
     "start_time": "2020-06-10T05:28:12.666521Z"
    }
   },
   "outputs": [],
   "source": [
    "# 3"
   ]
  },
  {
   "cell_type": "code",
   "execution_count": null,
   "metadata": {
    "ExecuteTime": {
     "end_time": "2020-06-10T05:28:13.189334Z",
     "start_time": "2020-06-10T05:28:13.184679Z"
    }
   },
   "outputs": [],
   "source": [
    "# 4"
   ]
  },
  {
   "cell_type": "code",
   "execution_count": null,
   "metadata": {
    "ExecuteTime": {
     "end_time": "2020-06-10T05:28:13.677513Z",
     "start_time": "2020-06-10T05:28:13.673904Z"
    }
   },
   "outputs": [],
   "source": [
    "# 5"
   ]
  },
  {
   "cell_type": "markdown",
   "metadata": {},
   "source": [
    "Great, now that we have **# of beds available** in each state, let us extract the **# of corona cases** per state. This will help us to better understand the shortage of beds in the coming future."
   ]
  },
  {
   "cell_type": "markdown",
   "metadata": {},
   "source": [
    "## Scrape Data from the WEB\n",
    "\n",
    "We will be scraping the data from Ministry of Health & Family Welfare website.\n",
    "\n",
    "[MoHFW](https://www.mohfw.gov.in/)\n",
    "\n",
    "> BeautifulSoup - [Documentation](https://www.crummy.com/software/BeautifulSoup/bs4/doc/)\n",
    "\n",
    "> Further reading\n",
    "- https://do.co/2XzV5uT\n",
    "- https://bit.ly/2A2axqo"
   ]
  },
  {
   "cell_type": "markdown",
   "metadata": {},
   "source": [
    "### Get the *source* of the MoHFW webpage"
   ]
  },
  {
   "cell_type": "code",
   "execution_count": null,
   "metadata": {
    "ExecuteTime": {
     "end_time": "2020-06-10T05:28:20.198275Z",
     "start_time": "2020-06-10T05:28:19.585750Z"
    }
   },
   "outputs": [],
   "source": [
    "MOHFW_URL = 'https://www.mohfw.gov.in/'\n",
    "\n",
    "r = requests.get(MOHFW_URL)\n",
    "print(f'Status: {r.status_code}')"
   ]
  },
  {
   "cell_type": "markdown",
   "metadata": {},
   "source": [
    "### Extract the *table* from the *source*"
   ]
  },
  {
   "cell_type": "code",
   "execution_count": null,
   "metadata": {
    "ExecuteTime": {
     "end_time": "2020-06-10T05:28:22.704600Z",
     "start_time": "2020-06-10T05:28:22.702446Z"
    }
   },
   "outputs": [],
   "source": [
    "# !conda install -y -c conda-forge beautifulsoup4 bs4"
   ]
  },
  {
   "cell_type": "code",
   "execution_count": null,
   "metadata": {
    "ExecuteTime": {
     "end_time": "2020-06-10T05:28:23.632877Z",
     "start_time": "2020-06-10T05:28:23.482671Z"
    }
   },
   "outputs": [],
   "source": [
    "# Import BeautifulSoup\n",
    "import bs4\n",
    "from bs4 import BeautifulSoup as BS\n",
    "\n",
    "page = BS(r.content, 'html.parser')\n",
    "table = page.table"
   ]
  },
  {
   "cell_type": "markdown",
   "metadata": {},
   "source": [
    "### Look at the underlying structure of the *table*"
   ]
  },
  {
   "cell_type": "code",
   "execution_count": null,
   "metadata": {
    "ExecuteTime": {
     "end_time": "2020-06-10T05:28:26.781060Z",
     "start_time": "2020-06-10T05:28:26.778405Z"
    }
   },
   "outputs": [],
   "source": [
    "print(table.tbody.tr.prettify())"
   ]
  },
  {
   "cell_type": "markdown",
   "metadata": {},
   "source": [
    "### Extract *data* from the *table*"
   ]
  },
  {
   "cell_type": "code",
   "execution_count": null,
   "metadata": {
    "ExecuteTime": {
     "end_time": "2020-06-10T05:28:30.082592Z",
     "start_time": "2020-06-10T05:28:30.068807Z"
    }
   },
   "outputs": [],
   "source": [
    "from typing import List\n",
    "\n",
    "def extract_from_table(table: bs4.element.Tag) -> List:\n",
    "    '''Extracts data from HTML table.\n",
    "    \n",
    "    Input:  bs4 *table*\n",
    "    Return: List of all the values in the table\n",
    "    '''\n",
    "    data = list()\n",
    "    \n",
    "    for row in table.select('tbody tr'):\n",
    "        data.append([col.text for col in row.find_all('td')])\n",
    "        \n",
    "    return data\n",
    "\n",
    "data_table = extract_from_table(table)\n",
    "data_table"
   ]
  },
  {
   "cell_type": "markdown",
   "metadata": {},
   "source": [
    "### Create a `pandas DataFrame` from the *data_table* & fix the `dtypes`"
   ]
  },
  {
   "cell_type": "code",
   "execution_count": null,
   "metadata": {
    "ExecuteTime": {
     "end_time": "2020-06-10T05:28:34.036225Z",
     "start_time": "2020-06-10T05:28:34.031499Z"
    }
   },
   "outputs": [],
   "source": [
    "columns = ['sno', 'state', 'active', 'cured', 'dead', 'total']\n",
    "stats = pd.DataFrame(data_table[:-6], columns=columns)\n",
    "stats.dtypes"
   ]
  },
  {
   "cell_type": "code",
   "execution_count": null,
   "metadata": {
    "ExecuteTime": {
     "end_time": "2020-06-10T05:28:36.130842Z",
     "start_time": "2020-06-10T05:28:36.120910Z"
    }
   },
   "outputs": [],
   "source": [
    "stats[['active', 'cured', 'dead', 'total']] = stats[['active', 'cured', 'dead', 'total']].astype(int) "
   ]
  },
  {
   "cell_type": "markdown",
   "metadata": {},
   "source": [
    "### State wise deaths & cured cases"
   ]
  },
  {
   "cell_type": "code",
   "execution_count": null,
   "metadata": {
    "ExecuteTime": {
     "end_time": "2020-06-10T05:28:37.255161Z",
     "start_time": "2020-06-10T05:28:37.226360Z"
    }
   },
   "outputs": [],
   "source": [
    "(stats[['state', 'cured', 'dead']]\n",
    "     .style\n",
    "     .hide_index()\n",
    "     .background_gradient(cmap='YlGn'))"
   ]
  },
  {
   "cell_type": "markdown",
   "metadata": {},
   "source": [
    "### Exercise 3\n",
    "\n",
    "1. Find the top 5 states where the death rate is high \n",
    "2. Find the top 5 states where the cure rate is high\n",
    "3. Take a deep breath & try to understand the data!\n",
    "\n",
    "(Extra marks for visualizing the column)"
   ]
  },
  {
   "cell_type": "code",
   "execution_count": null,
   "metadata": {
    "ExecuteTime": {
     "end_time": "2020-06-10T05:28:41.496496Z",
     "start_time": "2020-06-10T05:28:41.494584Z"
    }
   },
   "outputs": [],
   "source": [
    "# 1"
   ]
  },
  {
   "cell_type": "code",
   "execution_count": null,
   "metadata": {
    "ExecuteTime": {
     "end_time": "2020-06-10T05:28:44.919418Z",
     "start_time": "2020-06-10T05:28:44.917545Z"
    }
   },
   "outputs": [],
   "source": [
    "# 2"
   ]
  },
  {
   "cell_type": "markdown",
   "metadata": {},
   "source": [
    "### Exercise 4\n",
    "\n",
    "Scrape the top section of [MoHFW](https://www.mohfw.gov.in/) page, containing total number of active cases, cured, deaths & migrated. "
   ]
  },
  {
   "cell_type": "markdown",
   "metadata": {},
   "source": [
    "**Poll 2: What is unique about the section we are going to scrape in this page?**"
   ]
  },
  {
   "cell_type": "code",
   "execution_count": null,
   "metadata": {
    "ExecuteTime": {
     "end_time": "2020-06-10T05:28:49.862444Z",
     "start_time": "2020-06-10T05:28:49.848418Z"
    }
   },
   "outputs": [],
   "source": [
    "section = page.select('div.site-stats-count')[0]\n",
    "section"
   ]
  },
  {
   "cell_type": "code",
   "execution_count": null,
   "metadata": {
    "ExecuteTime": {
     "end_time": "2020-06-10T05:28:52.400742Z",
     "start_time": "2020-06-10T05:28:52.395220Z"
    }
   },
   "outputs": [],
   "source": [
    "# YOUR CODE GOES HERE"
   ]
  },
  {
   "cell_type": "markdown",
   "metadata": {},
   "source": [
    "Ahh cool! We now have state level cases data & the # of beds available with us. But can we do better?  \n",
    "Can we get data at District level instead? Let's try!"
   ]
  },
  {
   "cell_type": "markdown",
   "metadata": {},
   "source": [
    "## Parse Data from PDF\n",
    "\n",
    "We will be parsing the data from [National Health Profile (NHP)](https://www.cbhidghs.nic.in/index7.php?lang=1&level=0&linkid=1086&lid=1107&color=1) reports published by Central Bureau of Health Intelligence (CBHI) every year.  "
   ]
  },
  {
   "cell_type": "markdown",
   "metadata": {},
   "source": [
    "You can download the PDF from here: [NHP 2019](https://github.com/srmsoumya/dsct/raw/master/data/dw/nhrr/NHRR2019.pdf) & save it in `data` directory"
   ]
  },
  {
   "cell_type": "markdown",
   "metadata": {},
   "source": [
    "We will be using Camelot to parse PDF.  \n",
    "[Camelot](https://camelot-py.readthedocs.io/en/master/)"
   ]
  },
  {
   "cell_type": "markdown",
   "metadata": {},
   "source": [
    "### Extract *medical college data* from NHP 2019 report\n",
    "\n",
    "> Page [270-282]"
   ]
  },
  {
   "cell_type": "code",
   "execution_count": null,
   "metadata": {
    "ExecuteTime": {
     "end_time": "2020-06-10T05:29:38.711024Z",
     "start_time": "2020-06-10T05:29:05.569662Z"
    }
   },
   "outputs": [],
   "source": [
    "# !conda install -y -c conda-forge camelot-py (not working)\n",
    "!pip install camelot-py[cv]"
   ]
  },
  {
   "cell_type": "code",
   "execution_count": null,
   "metadata": {
    "ExecuteTime": {
     "end_time": "2020-06-10T05:29:42.155117Z",
     "start_time": "2020-06-10T05:29:42.067337Z"
    }
   },
   "outputs": [],
   "source": [
    "import camelot\n",
    "\n",
    "NHRR = DATA/'nhrr'/'NHRR2019.pdf'"
   ]
  },
  {
   "cell_type": "code",
   "execution_count": null,
   "metadata": {
    "ExecuteTime": {
     "end_time": "2020-06-10T05:30:08.462534Z",
     "start_time": "2020-06-10T05:29:47.917733Z"
    }
   },
   "outputs": [],
   "source": [
    "med_clgs = camelot.read_pdf(str(NHRR), pages='270-282', flavor='lattice')"
   ]
  },
  {
   "cell_type": "code",
   "execution_count": null,
   "metadata": {
    "ExecuteTime": {
     "end_time": "2020-06-10T05:30:21.754750Z",
     "start_time": "2020-06-10T05:30:21.748170Z"
    }
   },
   "outputs": [],
   "source": [
    "med_clgs[0].parsing_report"
   ]
  },
  {
   "cell_type": "code",
   "execution_count": null,
   "metadata": {
    "ExecuteTime": {
     "end_time": "2020-06-10T05:30:24.052695Z",
     "start_time": "2020-06-10T05:30:24.034399Z"
    }
   },
   "outputs": [],
   "source": [
    "med_clgs[0].df"
   ]
  },
  {
   "cell_type": "markdown",
   "metadata": {},
   "source": [
    "### Clean the table"
   ]
  },
  {
   "cell_type": "code",
   "execution_count": null,
   "metadata": {
    "ExecuteTime": {
     "end_time": "2020-06-10T05:30:27.705845Z",
     "start_time": "2020-06-10T05:30:27.682647Z"
    }
   },
   "outputs": [],
   "source": [
    "def extract_table(df: pd.DataFrame) -> pd.DataFrame:\n",
    "    '''Cleans the Dataframe'''\n",
    "    df = df.copy()                                           # Work on a copy\n",
    "    df.columns = df.iloc[0]                                  # Set Row 1 as the Column\n",
    "    df.drop(df.index[0], inplace=True)               # Delete Row 1\n",
    "    df.columns = [c.replace(' \\n', '') for c in df.columns]  # Format column names\n",
    "    df = df[df['S.No.'] != '']                               # Remove the total Rows\n",
    "    df.set_index(keys='S.No.', inplace=True)                 # Set S.No as the index\n",
    "    \n",
    "    return df\n",
    "\n",
    "med_clgs_df = pd.concat([extract_table(med_clgs[i].df) for i in range(13)])"
   ]
  },
  {
   "cell_type": "code",
   "execution_count": null,
   "metadata": {
    "ExecuteTime": {
     "end_time": "2020-06-10T05:30:29.960772Z",
     "start_time": "2020-06-10T05:30:29.953975Z"
    }
   },
   "outputs": [],
   "source": [
    "# Fill the missing names in `State/UT` column, format the names\n",
    "med_clgs_df['State/UT'] = med_clgs_df['State/UT'].replace(r'^\\s*$', np.nan, regex=True)\\\n",
    "                                                 .ffill()\\\n",
    "                                                 .str.replace('\\n', '')"
   ]
  },
  {
   "cell_type": "code",
   "execution_count": null,
   "metadata": {
    "ExecuteTime": {
     "end_time": "2020-06-10T05:30:30.759455Z",
     "start_time": "2020-06-10T05:30:30.751870Z"
    }
   },
   "outputs": [],
   "source": [
    "med_clgs_df.head()"
   ]
  },
  {
   "cell_type": "markdown",
   "metadata": {
    "ExecuteTime": {
     "end_time": "2020-06-06T11:24:33.235240Z",
     "start_time": "2020-06-06T11:24:33.117043Z"
    }
   },
   "source": [
    "### Save the data to a CSV file"
   ]
  },
  {
   "cell_type": "code",
   "execution_count": null,
   "metadata": {
    "ExecuteTime": {
     "end_time": "2020-06-10T05:30:37.213624Z",
     "start_time": "2020-06-10T05:30:37.206008Z"
    }
   },
   "outputs": [],
   "source": [
    "med_clgs_df.to_csv(DATA/'medical_college_list.csv', index=False)"
   ]
  },
  {
   "cell_type": "markdown",
   "metadata": {},
   "source": [
    "### *Exercise 5\n",
    "\n",
    "Extract **Pneumonia** data from NHP 2019 report\n",
    "> Page: [139]"
   ]
  },
  {
   "cell_type": "code",
   "execution_count": null,
   "metadata": {
    "ExecuteTime": {
     "end_time": "2020-06-10T05:31:07.621811Z",
     "start_time": "2020-06-10T05:31:07.620129Z"
    }
   },
   "outputs": [],
   "source": [
    "# YOUR CODE GOES HERE"
   ]
  }
 ],
 "metadata": {
  "kernelspec": {
   "display_name": "Python 3",
   "language": "python",
   "name": "python3"
  },
  "language_info": {
   "codemirror_mode": {
    "name": "ipython",
    "version": 3
   },
   "file_extension": ".py",
   "mimetype": "text/x-python",
   "name": "python",
   "nbconvert_exporter": "python",
   "pygments_lexer": "ipython3",
   "version": "3.7.6"
  },
  "toc": {
   "base_numbering": 1,
   "nav_menu": {},
   "number_sections": true,
   "sideBar": true,
   "skip_h1_title": false,
   "title_cell": "Table of Contents",
   "title_sidebar": "Contents",
   "toc_cell": false,
   "toc_position": {
    "height": "calc(100% - 180px)",
    "left": "10px",
    "top": "150px",
    "width": "380px"
   },
   "toc_section_display": true,
   "toc_window_display": true
  }
 },
 "nbformat": 4,
 "nbformat_minor": 4
}
