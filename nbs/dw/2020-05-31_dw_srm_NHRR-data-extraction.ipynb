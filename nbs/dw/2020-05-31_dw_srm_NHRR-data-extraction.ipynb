{
 "cells": [
  {
   "cell_type": "code",
   "execution_count": 1,
   "metadata": {},
   "outputs": [],
   "source": [
    "import pandas as pd\n",
    "import numpy as np\n",
    "import camelot\n",
    "import pdb\n",
    "from pathlib import Path"
   ]
  },
  {
   "cell_type": "code",
   "execution_count": 5,
   "metadata": {},
   "outputs": [],
   "source": [
    "DATA = Path('data')\n",
    "NHRR = DATA/'nhrr'/'NHRR2019.pdf'"
   ]
  },
  {
   "cell_type": "markdown",
   "metadata": {},
   "source": [
    "### Extract Medical College Data"
   ]
  },
  {
   "cell_type": "code",
   "execution_count": 7,
   "metadata": {},
   "outputs": [],
   "source": [
    "med_clgs = camelot.read_pdf(str(NHRR), pages='270-282', flavor='lattice')"
   ]
  },
  {
   "cell_type": "code",
   "execution_count": 8,
   "metadata": {},
   "outputs": [
    {
     "data": {
      "text/plain": [
       "{'accuracy': 100.0, 'whitespace': 14.29, 'order': 1, 'page': 270}"
      ]
     },
     "execution_count": 8,
     "metadata": {},
     "output_type": "execute_result"
    }
   ],
   "source": [
    "med_clgs[0].parsing_report"
   ]
  },
  {
   "cell_type": "code",
   "execution_count": 9,
   "metadata": {},
   "outputs": [],
   "source": [
    "def extract_table(df, drop_rows=[0]):\n",
    "    df.columns = df.iloc[0]\n",
    "    df.drop(df.index[drop_rows], inplace=True)\n",
    "    df.columns = [c.replace(' \\n', '') for c in df.columns]\n",
    "    df = df[df['S.No.'] != '']\n",
    "    df.set_index(keys='S.No.', inplace=True)\n",
    "    \n",
    "    return df"
   ]
  },
  {
   "cell_type": "code",
   "execution_count": 10,
   "metadata": {},
   "outputs": [],
   "source": [
    "med_clgs_df = pd.concat([extract_table(med_clgs[i].df) for i in range(13)])"
   ]
  },
  {
   "cell_type": "code",
   "execution_count": 11,
   "metadata": {},
   "outputs": [
    {
     "data": {
      "text/html": [
       "<div>\n",
       "<style scoped>\n",
       "    .dataframe tbody tr th:only-of-type {\n",
       "        vertical-align: middle;\n",
       "    }\n",
       "\n",
       "    .dataframe tbody tr th {\n",
       "        vertical-align: top;\n",
       "    }\n",
       "\n",
       "    .dataframe thead th {\n",
       "        text-align: right;\n",
       "    }\n",
       "</style>\n",
       "<table border=\"1\" class=\"dataframe\">\n",
       "  <thead>\n",
       "    <tr style=\"text-align: right;\">\n",
       "      <th></th>\n",
       "      <th>State/UT</th>\n",
       "      <th>Name of Medical College</th>\n",
       "      <th>City/Town</th>\n",
       "      <th>Govt/Private</th>\n",
       "      <th>AdmissionCapacity</th>\n",
       "      <th>No. of beds in AttachedHospital</th>\n",
       "    </tr>\n",
       "    <tr>\n",
       "      <th>S.No.</th>\n",
       "      <th></th>\n",
       "      <th></th>\n",
       "      <th></th>\n",
       "      <th></th>\n",
       "      <th></th>\n",
       "      <th></th>\n",
       "    </tr>\n",
       "  </thead>\n",
       "  <tbody>\n",
       "    <tr>\n",
       "      <th>1</th>\n",
       "      <td>Andaman &amp; \\nNicobar Islands</td>\n",
       "      <td>Andaman &amp; Nicobar Islands Insitute of Medical ...</td>\n",
       "      <td>Port Blair</td>\n",
       "      <td>Govt.</td>\n",
       "      <td>100</td>\n",
       "      <td>460</td>\n",
       "    </tr>\n",
       "    <tr>\n",
       "      <th>2</th>\n",
       "      <td>Andhra Pradesh</td>\n",
       "      <td>ACSR Government Medical College Nellore</td>\n",
       "      <td>Nellore</td>\n",
       "      <td>Govt.</td>\n",
       "      <td>150</td>\n",
       "      <td>750</td>\n",
       "    </tr>\n",
       "    <tr>\n",
       "      <th>3</th>\n",
       "      <td></td>\n",
       "      <td>All India Institute of Medical Sciences, Manga...</td>\n",
       "      <td>Vijaywada</td>\n",
       "      <td>Govt.</td>\n",
       "      <td>50</td>\n",
       "      <td>NA</td>\n",
       "    </tr>\n",
       "    <tr>\n",
       "      <th>4</th>\n",
       "      <td></td>\n",
       "      <td>Alluri Sitaram Raju Academy of Medical Science...</td>\n",
       "      <td>Eluru</td>\n",
       "      <td>Trust</td>\n",
       "      <td>150</td>\n",
       "      <td>1070</td>\n",
       "    </tr>\n",
       "    <tr>\n",
       "      <th>5</th>\n",
       "      <td></td>\n",
       "      <td>Andhra Medical College, Visakhapatnam</td>\n",
       "      <td>Visakhapatnam</td>\n",
       "      <td>Govt.</td>\n",
       "      <td>200</td>\n",
       "      <td>2017</td>\n",
       "    </tr>\n",
       "    <tr>\n",
       "      <th>...</th>\n",
       "      <td>...</td>\n",
       "      <td>...</td>\n",
       "      <td>...</td>\n",
       "      <td>...</td>\n",
       "      <td>...</td>\n",
       "      <td>...</td>\n",
       "    </tr>\n",
       "    <tr>\n",
       "      <th>525</th>\n",
       "      <td></td>\n",
       "      <td>North Bengal Medical College, Darjeeling</td>\n",
       "      <td>Siliguri</td>\n",
       "      <td>Govt.</td>\n",
       "      <td>150</td>\n",
       "      <td>599</td>\n",
       "    </tr>\n",
       "    <tr>\n",
       "      <th>526</th>\n",
       "      <td></td>\n",
       "      <td>Raiganj Government Medical College &amp; Hospital</td>\n",
       "      <td>Raiganj</td>\n",
       "      <td>Govt.</td>\n",
       "      <td>NA</td>\n",
       "      <td>NA</td>\n",
       "    </tr>\n",
       "    <tr>\n",
       "      <th>527</th>\n",
       "      <td></td>\n",
       "      <td>Rampurhat Government Medical College &amp; Hospital</td>\n",
       "      <td>Rampurhat</td>\n",
       "      <td>Govt.</td>\n",
       "      <td>NA</td>\n",
       "      <td>NA</td>\n",
       "    </tr>\n",
       "    <tr>\n",
       "      <th>528</th>\n",
       "      <td></td>\n",
       "      <td>RG Kar Medical College, Kolkata</td>\n",
       "      <td>Kolkata</td>\n",
       "      <td>Govt.</td>\n",
       "      <td>200</td>\n",
       "      <td>1210</td>\n",
       "    </tr>\n",
       "    <tr>\n",
       "      <th>529</th>\n",
       "      <td></td>\n",
       "      <td>Shri Ramkrishna Institute of Medical Sciences ...</td>\n",
       "      <td>Durgapur</td>\n",
       "      <td>Trust</td>\n",
       "      <td>NA</td>\n",
       "      <td>NA</td>\n",
       "    </tr>\n",
       "  </tbody>\n",
       "</table>\n",
       "<p>529 rows × 6 columns</p>\n",
       "</div>"
      ],
      "text/plain": [
       "                          State/UT  \\\n",
       "S.No.                                \n",
       "1      Andaman & \\nNicobar Islands   \n",
       "2                   Andhra Pradesh   \n",
       "3                                    \n",
       "4                                    \n",
       "5                                    \n",
       "...                            ...   \n",
       "525                                  \n",
       "526                                  \n",
       "527                                  \n",
       "528                                  \n",
       "529                                  \n",
       "\n",
       "                                 Name of Medical College      City/Town  \\\n",
       "S.No.                                                                     \n",
       "1      Andaman & Nicobar Islands Insitute of Medical ...     Port Blair   \n",
       "2                ACSR Government Medical College Nellore        Nellore   \n",
       "3      All India Institute of Medical Sciences, Manga...      Vijaywada   \n",
       "4      Alluri Sitaram Raju Academy of Medical Science...          Eluru   \n",
       "5                  Andhra Medical College, Visakhapatnam  Visakhapatnam   \n",
       "...                                                  ...            ...   \n",
       "525             North Bengal Medical College, Darjeeling       Siliguri   \n",
       "526        Raiganj Government Medical College & Hospital        Raiganj   \n",
       "527      Rampurhat Government Medical College & Hospital      Rampurhat   \n",
       "528                      RG Kar Medical College, Kolkata        Kolkata   \n",
       "529    Shri Ramkrishna Institute of Medical Sciences ...       Durgapur   \n",
       "\n",
       "      Govt/Private AdmissionCapacity No. of beds in AttachedHospital  \n",
       "S.No.                                                                 \n",
       "1            Govt.               100                             460  \n",
       "2            Govt.               150                             750  \n",
       "3            Govt.                50                              NA  \n",
       "4            Trust               150                            1070  \n",
       "5            Govt.               200                            2017  \n",
       "...            ...               ...                             ...  \n",
       "525          Govt.               150                             599  \n",
       "526          Govt.                NA                              NA  \n",
       "527          Govt.                NA                              NA  \n",
       "528          Govt.               200                            1210  \n",
       "529          Trust                NA                              NA  \n",
       "\n",
       "[529 rows x 6 columns]"
      ]
     },
     "execution_count": 11,
     "metadata": {},
     "output_type": "execute_result"
    }
   ],
   "source": [
    "med_clgs_df"
   ]
  },
  {
   "cell_type": "code",
   "execution_count": 12,
   "metadata": {},
   "outputs": [],
   "source": [
    "med_clgs_df['State/UT'] = med_clgs_df['State/UT'].replace(r'^\\s*$', np.nan, regex=True)\\\n",
    "                                                 .ffill()\\\n",
    "                                                 .str.replace('\\n', '')"
   ]
  },
  {
   "cell_type": "code",
   "execution_count": 13,
   "metadata": {},
   "outputs": [
    {
     "data": {
      "text/html": [
       "<div>\n",
       "<style scoped>\n",
       "    .dataframe tbody tr th:only-of-type {\n",
       "        vertical-align: middle;\n",
       "    }\n",
       "\n",
       "    .dataframe tbody tr th {\n",
       "        vertical-align: top;\n",
       "    }\n",
       "\n",
       "    .dataframe thead th {\n",
       "        text-align: right;\n",
       "    }\n",
       "</style>\n",
       "<table border=\"1\" class=\"dataframe\">\n",
       "  <thead>\n",
       "    <tr style=\"text-align: right;\">\n",
       "      <th></th>\n",
       "      <th>State/UT</th>\n",
       "      <th>Name of Medical College</th>\n",
       "      <th>City/Town</th>\n",
       "      <th>Govt/Private</th>\n",
       "      <th>AdmissionCapacity</th>\n",
       "      <th>No. of beds in AttachedHospital</th>\n",
       "    </tr>\n",
       "    <tr>\n",
       "      <th>S.No.</th>\n",
       "      <th></th>\n",
       "      <th></th>\n",
       "      <th></th>\n",
       "      <th></th>\n",
       "      <th></th>\n",
       "      <th></th>\n",
       "    </tr>\n",
       "  </thead>\n",
       "  <tbody>\n",
       "    <tr>\n",
       "      <th>1</th>\n",
       "      <td>Andaman &amp; Nicobar Islands</td>\n",
       "      <td>Andaman &amp; Nicobar Islands Insitute of Medical ...</td>\n",
       "      <td>Port Blair</td>\n",
       "      <td>Govt.</td>\n",
       "      <td>100</td>\n",
       "      <td>460</td>\n",
       "    </tr>\n",
       "    <tr>\n",
       "      <th>2</th>\n",
       "      <td>Andhra Pradesh</td>\n",
       "      <td>ACSR Government Medical College Nellore</td>\n",
       "      <td>Nellore</td>\n",
       "      <td>Govt.</td>\n",
       "      <td>150</td>\n",
       "      <td>750</td>\n",
       "    </tr>\n",
       "    <tr>\n",
       "      <th>3</th>\n",
       "      <td>Andhra Pradesh</td>\n",
       "      <td>All India Institute of Medical Sciences, Manga...</td>\n",
       "      <td>Vijaywada</td>\n",
       "      <td>Govt.</td>\n",
       "      <td>50</td>\n",
       "      <td>NA</td>\n",
       "    </tr>\n",
       "    <tr>\n",
       "      <th>4</th>\n",
       "      <td>Andhra Pradesh</td>\n",
       "      <td>Alluri Sitaram Raju Academy of Medical Science...</td>\n",
       "      <td>Eluru</td>\n",
       "      <td>Trust</td>\n",
       "      <td>150</td>\n",
       "      <td>1070</td>\n",
       "    </tr>\n",
       "    <tr>\n",
       "      <th>5</th>\n",
       "      <td>Andhra Pradesh</td>\n",
       "      <td>Andhra Medical College, Visakhapatnam</td>\n",
       "      <td>Visakhapatnam</td>\n",
       "      <td>Govt.</td>\n",
       "      <td>200</td>\n",
       "      <td>2017</td>\n",
       "    </tr>\n",
       "  </tbody>\n",
       "</table>\n",
       "</div>"
      ],
      "text/plain": [
       "                        State/UT  \\\n",
       "S.No.                              \n",
       "1      Andaman & Nicobar Islands   \n",
       "2                 Andhra Pradesh   \n",
       "3                 Andhra Pradesh   \n",
       "4                 Andhra Pradesh   \n",
       "5                 Andhra Pradesh   \n",
       "\n",
       "                                 Name of Medical College      City/Town  \\\n",
       "S.No.                                                                     \n",
       "1      Andaman & Nicobar Islands Insitute of Medical ...     Port Blair   \n",
       "2                ACSR Government Medical College Nellore        Nellore   \n",
       "3      All India Institute of Medical Sciences, Manga...      Vijaywada   \n",
       "4      Alluri Sitaram Raju Academy of Medical Science...          Eluru   \n",
       "5                  Andhra Medical College, Visakhapatnam  Visakhapatnam   \n",
       "\n",
       "      Govt/Private AdmissionCapacity No. of beds in AttachedHospital  \n",
       "S.No.                                                                 \n",
       "1            Govt.               100                             460  \n",
       "2            Govt.               150                             750  \n",
       "3            Govt.                50                              NA  \n",
       "4            Trust               150                            1070  \n",
       "5            Govt.               200                            2017  "
      ]
     },
     "execution_count": 13,
     "metadata": {},
     "output_type": "execute_result"
    }
   ],
   "source": [
    "med_clgs_df.head()"
   ]
  },
  {
   "cell_type": "code",
   "execution_count": 14,
   "metadata": {},
   "outputs": [],
   "source": [
    "med_clgs_df.to_csv(DATA/'medical_college_list.csv', index=False)"
   ]
  },
  {
   "cell_type": "markdown",
   "metadata": {},
   "source": [
    "### Extract Doctors Data"
   ]
  },
  {
   "cell_type": "code",
   "execution_count": 15,
   "metadata": {},
   "outputs": [],
   "source": [
    "doctors = camelot.read_pdf(str(NHRR), pages='245', flavor='lattice')\n",
    "doctors_df = extract_table(doctors[0].df)\n",
    "\n",
    "doctors_df.to_csv(DATA/'doctors.csv', index=False)"
   ]
  },
  {
   "cell_type": "code",
   "execution_count": 16,
   "metadata": {},
   "outputs": [],
   "source": [
    "def extract_table_govt(df):\n",
    "    df.columns = df.iloc[0]\n",
    "    df.drop(df.index[0], inplace=True)\n",
    "    df.columns = [c.replace(' \\n', '') for c in df.columns]\n",
    "    df = df[df['S.No'] != '']\n",
    "    df.set_index(keys='S.No', inplace=True)\n",
    "    \n",
    "    return df"
   ]
  },
  {
   "cell_type": "code",
   "execution_count": 17,
   "metadata": {},
   "outputs": [],
   "source": [
    "govt_doctors = camelot.read_pdf(str(NHRR), pages='250', flavor='lattice')\n",
    "govt_doctors_df = extract_table_govt(govt_doctors[0].df)\n",
    "\n",
    "govt_doctors_df.to_csv(DATA/'govt_doctors.csv', index=False)"
   ]
  },
  {
   "cell_type": "markdown",
   "metadata": {},
   "source": [
    "### Extract Nurses Data"
   ]
  },
  {
   "cell_type": "code",
   "execution_count": 18,
   "metadata": {},
   "outputs": [],
   "source": [
    "def extract_table_nurses(df):\n",
    "    df.columns = df.iloc[0]\n",
    "    df.drop(df.index[0], inplace=True)\n",
    "    df.columns = [c.replace(' \\n', '') for c in df.columns]\n",
    "    df = df[df['S. No'] != '']\n",
    "    df.set_index(keys='S. No', inplace=True)\n",
    "    \n",
    "    return df"
   ]
  },
  {
   "cell_type": "code",
   "execution_count": 19,
   "metadata": {},
   "outputs": [],
   "source": [
    "nurses = camelot.read_pdf(str(NHRR), pages='254', flavor='lattice')\n",
    "nurses_df = extract_table_nurses(nurses[0].df)\n",
    "\n",
    "nurses_df.columns = ['State/UT', 'ANM', 'RN & RM', 'LH V', 'Pharmacists']\n",
    "\n",
    "nurses_df.to_csv(DATA/'nurses.csv', index=False)"
   ]
  },
  {
   "cell_type": "code",
   "execution_count": 20,
   "metadata": {},
   "outputs": [
    {
     "data": {
      "text/html": [
       "<div>\n",
       "<style scoped>\n",
       "    .dataframe tbody tr th:only-of-type {\n",
       "        vertical-align: middle;\n",
       "    }\n",
       "\n",
       "    .dataframe tbody tr th {\n",
       "        vertical-align: top;\n",
       "    }\n",
       "\n",
       "    .dataframe thead th {\n",
       "        text-align: right;\n",
       "    }\n",
       "</style>\n",
       "<table border=\"1\" class=\"dataframe\">\n",
       "  <thead>\n",
       "    <tr style=\"text-align: right;\">\n",
       "      <th></th>\n",
       "      <th>State/UT</th>\n",
       "      <th>ANM</th>\n",
       "      <th>RN &amp; RM</th>\n",
       "      <th>LH V</th>\n",
       "      <th>Pharmacists</th>\n",
       "    </tr>\n",
       "    <tr>\n",
       "      <th>S. No</th>\n",
       "      <th></th>\n",
       "      <th></th>\n",
       "      <th></th>\n",
       "      <th></th>\n",
       "      <th></th>\n",
       "    </tr>\n",
       "  </thead>\n",
       "  <tbody>\n",
       "    <tr>\n",
       "      <th>1</th>\n",
       "      <td>Andhra Pradesh*</td>\n",
       "      <td>138,435</td>\n",
       "      <td>232,621</td>\n",
       "      <td>2,480</td>\n",
       "      <td>50,247</td>\n",
       "    </tr>\n",
       "    <tr>\n",
       "      <th>2</th>\n",
       "      <td>Arunachal Pradesh</td>\n",
       "      <td>971</td>\n",
       "      <td>938</td>\n",
       "      <td>15</td>\n",
       "      <td>279</td>\n",
       "    </tr>\n",
       "    <tr>\n",
       "      <th>3</th>\n",
       "      <td>Assam</td>\n",
       "      <td>27,925</td>\n",
       "      <td>22,388</td>\n",
       "      <td>353</td>\n",
       "      <td>15,462</td>\n",
       "    </tr>\n",
       "    <tr>\n",
       "      <th>4</th>\n",
       "      <td>Bihar*</td>\n",
       "      <td>8,624</td>\n",
       "      <td>9,413</td>\n",
       "      <td>511</td>\n",
       "      <td>24,341</td>\n",
       "    </tr>\n",
       "    <tr>\n",
       "      <th>5</th>\n",
       "      <td>Chattisgarh*</td>\n",
       "      <td>13,329</td>\n",
       "      <td>13,048</td>\n",
       "      <td>1,352</td>\n",
       "      <td>9,716</td>\n",
       "    </tr>\n",
       "  </tbody>\n",
       "</table>\n",
       "</div>"
      ],
      "text/plain": [
       "                State/UT      ANM  RN & RM   LH V Pharmacists\n",
       "S. No                                                        \n",
       "1        Andhra Pradesh*  138,435  232,621  2,480      50,247\n",
       "2      Arunachal Pradesh      971      938     15         279\n",
       "3                  Assam   27,925   22,388    353      15,462\n",
       "4                 Bihar*    8,624    9,413    511      24,341\n",
       "5           Chattisgarh*   13,329   13,048  1,352       9,716"
      ]
     },
     "execution_count": 20,
     "metadata": {},
     "output_type": "execute_result"
    }
   ],
   "source": [
    "nurses_df.head()"
   ]
  },
  {
   "cell_type": "markdown",
   "metadata": {},
   "source": [
    "### Extract Population Data"
   ]
  },
  {
   "cell_type": "code",
   "execution_count": 21,
   "metadata": {},
   "outputs": [],
   "source": [
    "pop = camelot.read_pdf(str(NHRR), pages='36', flavor='lattice')\n",
    "pop_df = extract_table(pop[0].df)\n",
    "pop_df.columns = ['State/UT', '2018-Persons', '2018-Males', '2018-Females', '2019-Persons', '2019-Males', '2019-Females', '2020-Persons', '2020-Males', '2020-Females']\n",
    "\n",
    "pop_df.to_csv(DATA/'population.csv', index=False)"
   ]
  },
  {
   "cell_type": "code",
   "execution_count": 22,
   "metadata": {},
   "outputs": [],
   "source": [
    "def extract_table_age(df):\n",
    "    df.columns = df.iloc[0]\n",
    "    df.drop(df.index[[0, 1]], inplace=True)\n",
    "    df.reset_index(inplace=True, drop=True)\n",
    "    \n",
    "    return df"
   ]
  },
  {
   "cell_type": "code",
   "execution_count": 23,
   "metadata": {},
   "outputs": [],
   "source": [
    "age = camelot.read_pdf(str(NHRR), pages='40', flavor='lattice')\n",
    "age_df = extract_table_age(age[0].df)\n",
    "age_df.columns = ['Age Group', 'Total', 'Total-Males', 'Total-Females', 'Rural-Total', 'Rural-Males', 'Rural-Females', 'Urban-Total', 'Urban-Males', 'Urban-Females']\n",
    "\n",
    "age_df.to_csv(DATA/'pop_by_age_2017.csv', index=False)"
   ]
  },
  {
   "cell_type": "markdown",
   "metadata": {},
   "source": [
    "### Death by pneumonia"
   ]
  },
  {
   "cell_type": "code",
   "execution_count": 24,
   "metadata": {},
   "outputs": [],
   "source": [
    "pneumonia = camelot.read_pdf(str(NHRR), pages='139', flavor='lattice')\n",
    "pneumonia_df = extract_table(pneumonia[0].df, drop_rows=[0,1])\n",
    "pneumonia_df.columns = ['State/UT.', 'Male-Cases', 'Male-Deaths', 'Female-Cases', 'Female-Deaths', 'Total-Cases', 'Total-Deaths']\n",
    "\n",
    "pneumonia_df.to_csv(DATA/'pneumonia_2018.csv', index=False)"
   ]
  },
  {
   "cell_type": "markdown",
   "metadata": {},
   "source": [
    "### Death by Acute Respiratory Infection"
   ]
  },
  {
   "cell_type": "code",
   "execution_count": 25,
   "metadata": {},
   "outputs": [],
   "source": [
    "ari = camelot.read_pdf(str(NHRR), pages='121', flavor='lattice')\n",
    "ari_df = extract_table(ari[0].df, drop_rows=[0,1])\n",
    "ari_df.columns = ['State/UT.', 'Male-Cases', 'Male-Deaths', 'Female-Cases', 'Female-Deaths', 'Total-Cases', 'Total-Deaths']\n",
    "\n",
    "ari_df.to_csv(DATA/'ari_2018.csv', index=False)"
   ]
  },
  {
   "cell_type": "code",
   "execution_count": 26,
   "metadata": {},
   "outputs": [
    {
     "data": {
      "text/html": [
       "<div>\n",
       "<style scoped>\n",
       "    .dataframe tbody tr th:only-of-type {\n",
       "        vertical-align: middle;\n",
       "    }\n",
       "\n",
       "    .dataframe tbody tr th {\n",
       "        vertical-align: top;\n",
       "    }\n",
       "\n",
       "    .dataframe thead th {\n",
       "        text-align: right;\n",
       "    }\n",
       "</style>\n",
       "<table border=\"1\" class=\"dataframe\">\n",
       "  <thead>\n",
       "    <tr style=\"text-align: right;\">\n",
       "      <th></th>\n",
       "      <th>State/UT.</th>\n",
       "      <th>Male-Cases</th>\n",
       "      <th>Male-Deaths</th>\n",
       "      <th>Female-Cases</th>\n",
       "      <th>Female-Deaths</th>\n",
       "      <th>Total-Cases</th>\n",
       "      <th>Total-Deaths</th>\n",
       "    </tr>\n",
       "    <tr>\n",
       "      <th>S.No.</th>\n",
       "      <th></th>\n",
       "      <th></th>\n",
       "      <th></th>\n",
       "      <th></th>\n",
       "      <th></th>\n",
       "      <th></th>\n",
       "      <th></th>\n",
       "    </tr>\n",
       "  </thead>\n",
       "  <tbody>\n",
       "    <tr>\n",
       "      <th>1</th>\n",
       "      <td>Andhra Pradesh</td>\n",
       "      <td>1577483</td>\n",
       "      <td>380</td>\n",
       "      <td>1572414</td>\n",
       "      <td>207</td>\n",
       "      <td>3149897</td>\n",
       "      <td>587</td>\n",
       "    </tr>\n",
       "    <tr>\n",
       "      <th>2</th>\n",
       "      <td>Arunachal Pradesh</td>\n",
       "      <td>17723</td>\n",
       "      <td>0</td>\n",
       "      <td>15945</td>\n",
       "      <td>0</td>\n",
       "      <td>33668</td>\n",
       "      <td>0</td>\n",
       "    </tr>\n",
       "    <tr>\n",
       "      <th>3</th>\n",
       "      <td>Assam</td>\n",
       "      <td>13634</td>\n",
       "      <td>182</td>\n",
       "      <td>10466</td>\n",
       "      <td>79</td>\n",
       "      <td>24100</td>\n",
       "      <td>261</td>\n",
       "    </tr>\n",
       "    <tr>\n",
       "      <th>4</th>\n",
       "      <td>Bihar</td>\n",
       "      <td>479878</td>\n",
       "      <td>0</td>\n",
       "      <td>496303</td>\n",
       "      <td>2</td>\n",
       "      <td>976181</td>\n",
       "      <td>2</td>\n",
       "    </tr>\n",
       "    <tr>\n",
       "      <th>5</th>\n",
       "      <td>Chhattisgarh</td>\n",
       "      <td>234641</td>\n",
       "      <td>12</td>\n",
       "      <td>224187</td>\n",
       "      <td>3</td>\n",
       "      <td>458828</td>\n",
       "      <td>15</td>\n",
       "    </tr>\n",
       "  </tbody>\n",
       "</table>\n",
       "</div>"
      ],
      "text/plain": [
       "               State/UT. Male-Cases Male-Deaths Female-Cases Female-Deaths  \\\n",
       "S.No.                                                                        \n",
       "1         Andhra Pradesh    1577483         380      1572414           207   \n",
       "2      Arunachal Pradesh      17723           0        15945             0   \n",
       "3                  Assam      13634         182        10466            79   \n",
       "4                  Bihar     479878           0       496303             2   \n",
       "5           Chhattisgarh     234641          12       224187             3   \n",
       "\n",
       "      Total-Cases Total-Deaths  \n",
       "S.No.                           \n",
       "1         3149897          587  \n",
       "2           33668            0  \n",
       "3           24100          261  \n",
       "4          976181            2  \n",
       "5          458828           15  "
      ]
     },
     "execution_count": 26,
     "metadata": {},
     "output_type": "execute_result"
    }
   ],
   "source": [
    "ari_df.head()"
   ]
  },
  {
   "cell_type": "code",
   "execution_count": null,
   "metadata": {},
   "outputs": [],
   "source": []
  }
 ],
 "metadata": {
  "kernelspec": {
   "display_name": "Python 3",
   "language": "python",
   "name": "python3"
  },
  "language_info": {
   "codemirror_mode": {
    "name": "ipython",
    "version": 3
   },
   "file_extension": ".py",
   "mimetype": "text/x-python",
   "name": "python",
   "nbconvert_exporter": "python",
   "pygments_lexer": "ipython3",
   "version": "3.7.6"
  }
 },
 "nbformat": 4,
 "nbformat_minor": 4
}
